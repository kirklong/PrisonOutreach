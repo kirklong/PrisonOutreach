{
 "cells": [
  {
   "cell_type": "markdown",
   "metadata": {},
   "source": [
    "# Loop basics\n",
    "\n",
    "Refer to this notebook whenever you are confused by anything loop related!\n",
    "\n",
    "## The for loop\n",
    "\n",
    "This loop has a specified ending condition and it iterates across whatever range you tell it to.\n",
    "\n",
    "\n",
    "### Syntax\n",
    "\n",
    "    It requires there to be something to iterate.\n",
    "\n",
    "    It must have a range to iterate through (needs a defined stopping place).\n",
    "\n",
    "    It's a special function, so the end of the for statement must end with a colon (:)\n",
    "\n",
    "    There must be something indented inside the loop that will be executed each iteration.\n",
    "\n",
    "\n",
    "Here are a few examples that are documented with comments to explain what's happening:"
   ]
  },
  {
   "cell_type": "code",
   "execution_count": 1,
   "metadata": {},
   "outputs": [
    {
     "name": "stdout",
     "output_type": "stream",
     "text": [
      "h\n",
      "e\n",
      "l\n",
      "l\n",
      "o\n",
      " \n",
      "w\n",
      "o\n",
      "r\n",
      "l\n",
      "d\n"
     ]
    }
   ],
   "source": [
    "#in this example we will use a for loop to print each letter of a string\n",
    "string = \"hello world\"\n",
    "for letter in string: #for every letter in the string\n",
    "    print(letter) #print out that letter"
   ]
  },
  {
   "cell_type": "code",
   "execution_count": 2,
   "metadata": {},
   "outputs": [
    {
     "name": "stdout",
     "output_type": "stream",
     "text": [
      "1\n",
      "2\n",
      "3\n",
      "4\n",
      "5\n"
     ]
    }
   ],
   "source": [
    "#in this example we will use a for loop to iterate through a list\n",
    "myList = [1, 2, 3, 4, 5]\n",
    "for num in myList: #for every number in the list\n",
    "    print(num) #print out the number"
   ]
  },
  {
   "cell_type": "code",
   "execution_count": 4,
   "metadata": {},
   "outputs": [
    {
     "name": "stdout",
     "output_type": "stream",
     "text": [
      "at i = 0 the number is 1\n",
      "at i = 1 the number is 2\n",
      "at i = 2 the number is 3\n",
      "at i = 3 the number is 4\n",
      "at i = 4 the number is 5\n"
     ]
    }
   ],
   "source": [
    "#we can accomplish the same thing with \"i\" syntax\n",
    "myList = [1, 2, 3, 4, 5]\n",
    "for i in range(len(myList)): #i will go from 0 to the length of myList (5 in this case)\n",
    "    num = myList[i] #this is the number at whatever value i is \n",
    "    print(\"at i =\", i, \"the number is\", num) "
   ]
  },
  {
   "cell_type": "code",
   "execution_count": 5,
   "metadata": {},
   "outputs": [
    {
     "name": "stdout",
     "output_type": "stream",
     "text": [
      "at i = 1 the number is 2\n",
      "at i = 3 the number is 4\n",
      "at i = 5 the number is 6\n"
     ]
    }
   ],
   "source": [
    "#what if we want to start at a number other than zero or count by a number other than 1?\n",
    "myList = [1, 2, 3, 4, 5, 6]\n",
    "for i in range(1,6,2): #this starts at 1 and counts up by 2 while it's less than six\n",
    "    num = myList[i] #number at i\n",
    "    print(\"at i =\", i, \"the number is\", num)"
   ]
  },
  {
   "cell_type": "markdown",
   "metadata": {},
   "source": [
    "## The while loop\n",
    "\n",
    "This loop operates *while* a specified condition is met -- they can be dangerous because if you forget to add a stop condition they will go forever!\n",
    "\n",
    "\n",
    "### Syntax\n",
    "\n",
    "    Needs a condition to check on each iteration.\n",
    "\n",
    "    Doesn't explicitly require a stopping condition, but if you don't want it to go forever make sure you include a way for it to stop!\n",
    "\n",
    "    It's a special function, so the end of the while statement must end with a colon (:)\n",
    "\n",
    "    There must be something indented inside the loop that will be executed each iteration.\n",
    "\n",
    "\n",
    "Here are a few examples that are documented with comments to explain what's happening:"
   ]
  },
  {
   "cell_type": "code",
   "execution_count": 6,
   "metadata": {},
   "outputs": [
    {
     "name": "stdout",
     "output_type": "stream",
     "text": [
      "at i = 1 the number is 2\n",
      "at i = 3 the number is 4\n",
      "at i = 5 the number is 6\n"
     ]
    }
   ],
   "source": [
    "#this example will accomplish the same task the last for loop does\n",
    "myList = [1, 2, 3, 4, 5, 6]\n",
    "i = 1 #this is what i will start as \n",
    "while i <= 5: #our loop will operate while i is less than or equal to 5 -- notice that in the for loop\n",
    "    #we had to go to 6 because for loop defaults to just less than and not less than or equal to\n",
    "    num = myList[i]\n",
    "    print(\"at i =\", i, \"the number is\", num)\n",
    "    i += 2 #we need to add 2 to i or else it will stay 1 forever and we'll be in an infinite loop"
   ]
  },
  {
   "cell_type": "code",
   "execution_count": 9,
   "metadata": {},
   "outputs": [
    {
     "name": "stdout",
     "output_type": "stream",
     "text": [
      "Would you like to see the number at index 0 in the list? [y/n] y\n",
      "at index 0 the number is 1\n",
      "Would you like to see the number at index 1 in the list? [y/n] y\n",
      "at index 1 the number is 2\n",
      "Would you like to see the number at index 2 in the list? [y/n] y\n",
      "at index 2 the number is 3\n",
      "Would you like to see the number at index 3 in the list? [y/n] y\n",
      "at index 3 the number is 4\n",
      "Would you like to see the number at index 4 in the list? [y/n] y\n",
      "at index 4 the number is 5\n",
      "Would you like to see the number at index 5 in the list? [y/n] y\n",
      "at index 5 the number is 6\n"
     ]
    }
   ],
   "source": [
    "#here's a slightly more complicated example that uses boolean logic (true/false)\n",
    "stopCondition = False\n",
    "myList = [1, 2, 3, 4, 5, 6]\n",
    "counter = 0\n",
    "while stopCondition == False and counter < len(myList): #keep going until we quit or run out of items\n",
    "    \n",
    "    validInput = False \n",
    "    while validInput == False: #a loop within a loop...loopception\n",
    "        ask = input(\"Would you like to see the number at index \" + str(counter) + \" in the list? [y/n] \")\n",
    "        \n",
    "        if ask == \"y\" or ask == \"n\":\n",
    "            validInput = True #they entered either y or n so we accept their input and quit this loop\n",
    "        \n",
    "        else:\n",
    "            print(\"sorry, I didn't recognize that input\") #they tried to be cheeky and didn't put y or n\n",
    "            \n",
    "    if ask == \"y\": #if we said yes\n",
    "        num = myList[counter]\n",
    "        print(\"at index\", counter, \"the number is\", num)\n",
    "        counter += 1 #add 1 to counter so that next time we get the next item in the list\n",
    "        \n",
    "    else: #if we said no\n",
    "        print(\"goodbye\")\n",
    "        stopCondition = True #this will cause the loop to exit"
   ]
  },
  {
   "cell_type": "code",
   "execution_count": null,
   "metadata": {},
   "outputs": [],
   "source": []
  }
 ],
 "metadata": {
  "kernelspec": {
   "display_name": "Python 3",
   "language": "python",
   "name": "python3"
  },
  "language_info": {
   "codemirror_mode": {
    "name": "ipython",
    "version": 3
   },
   "file_extension": ".py",
   "mimetype": "text/x-python",
   "name": "python",
   "nbconvert_exporter": "python",
   "pygments_lexer": "ipython3",
   "version": "3.7.3"
  }
 },
 "nbformat": 4,
 "nbformat_minor": 2
}
