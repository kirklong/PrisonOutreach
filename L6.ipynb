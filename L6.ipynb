{
 "cells": [
  {
   "cell_type": "markdown",
   "metadata": {},
   "source": [
    "# Solving Problems with Python: an Introduction to Data Science\n",
    "\n",
    "## Lesson 6: advanced modeling and visualization\n",
    "\n",
    "In this lesson you're going to apply your new modelling skills to a slightly harder (but relevant to current events) problem -- disease modelling! We will learn and apply two methods of simulating the spread of a disease. An important note -- this is a fun and interesting exercise, but you should not try to take the results of this and apply them to the real world. The models we will be making are simple and crude and may not accurately reflect what actually happens in a pandemic (like the one we are currently experiencing) so it's still important to trust the experts with their much more sophisticated models! That said, even with these crude models you will be able to see behavior that is backed up by real data, so these are at least a good broad representation of how diseases can spread.\n",
    "\n",
    "**Note:** This is a pretty long (and complicated!) assignment, so hopefully it will keep you busy for a while! I have tried to make the instructions as clear as possible but as usual I am sure there will be some confusion and some things I could have explained better. When you get stuck please write your questions down and, if possible, send some code to Andrew so that he can get it to me and I will answer you as quickly as possible. Stay safe and wash your hands!!!\n",
    "\n",
    "### Problem 1: discrete stochastic (random) modeling\n",
    "\n",
    "Let's assume we know some things about our imaginar illness and we want to simulate its spread through some population (like a city, state, or country). Let's make the following broad and simplified assumptions about the illness:\n",
    "\n",
    "1. The number of infectious people at the start of day $t$ is given by $It)$. \n",
    "\n",
    "2. The total population is denoted by the $N$ and we assume it is constant for all time (ie not taking into account births/deaths).\n",
    "\n",
    "3. Once a person is infected they instantly become infectious (can spread the disease to others) and they stay that way forever.\n",
    "\n",
    "4. If a person is infectious, they have some probability $p$ to infect one noninfectious person on a given day $t$. \n",
    "\n",
    "To keep track of who is infected, we will create a large matrix the size of the population with each row representing the infected state of the population at $t$ -- if the entry for a person holds a zero we will consider them not infected and if the entry holds a 1 we will consider them infected.\n",
    "\n",
    "**Pseudo-code for stochastic model:**\n",
    "```python\n",
    "#first we need to initialize the population matrix\n",
    "start_time = 0\n",
    "stop_time = #number of days you want to simulate\n",
    "N = #total number of people in simulation\n",
    "p = #probability of infection\n",
    "population_array = np.zeros(shape=((stop_time-start_time),N))\n",
    "#this makes a matrix/array of 0s that has a row of N people for every day t \n",
    "initial_infected = #how many people should start as infected? Must be > 0\n",
    "population_array[start_time][:initial_infected] = 1\n",
    "#change 0s in the first row (t=0) to 1s to start with some people infected\n",
    "\n",
    "for t in range(start_time,stop_time):\n",
    "    for i in range(N):\n",
    "        if t<(stop_time-1): #can't add on past the last day\n",
    "            population_array[t+1][i] = population_array[t][i]\n",
    "            #each infected person stays infected -- carry over to next day\n",
    "            for j in range(N):\n",
    "                randNum = #pick a random number between 0 and 1\n",
    "                if randNum < p and population_array[t][j] == 1:\n",
    "                    #if person j is infectious and our random number\n",
    "                    #is beneath threshold then person i gets infected\n",
    "                    #by person j \n",
    "                    population_array[t+1][i] = 1 \n",
    "                    #change the zero to a 1 at the next time step\n",
    "                    #to show that we infected a new person\n",
    "```\n",
    "\n",
    "### Problem 1: playing with the stochastic model\n",
    "\n",
    "Implement the pseudo-code above to model the spread of a virus that has a probability of spread $p = 10^{-4}$ through a population of size $N = 1000$ people over 100 days, starting with 10 people initially infected at $t=0$. Plot the total number of infected people as a function of time (hint -- you can use the ```sum``` function on each row of the data you generate to get the total number of infected at time t).\n",
    "\n",
    "You should get a plot that looks something like this:\n",
    "<img src=\"stochasticPlot.png\">\n",
    "Run your simulation 10 times and plot the curves on top of each other -- do you get the same results every time? Why or why not? Try altering the initial conditions (particularly p -- the probability of infection) I gave you to get different curves. You should notice that tiny differences in these conditions can give drastically different results!\n",
    "\n",
    "**Important note:** try high numbers of N or stop_time at your own peril! There are three nested loops in this code, which makes the performance pretty abysmal in Python. Even with the conditions I gave you it can take ~10-30 seconds to run if your machine is not the best. This is one of the downsides of stochastic modeling -- it can be very computationally expensive, especially in langauges like Python where loops are costly.\n",
    "\n",
    "**Challenge:** Try to make this model more realistic. Assume that after a period of time (say, 14 days...) that a person who has been infected is no longer infectious. Implement this into your code -- how does it affect the model? You could also implement a fatality rate that would cause the population to shrink over time -- how does this affect the model and what ways can you think of to minimize deaths? "
   ]
  },
  {
   "cell_type": "code",
   "execution_count": 24,
   "metadata": {},
   "outputs": [],
   "source": [
    "#your solution to problem 1 here:\n"
   ]
  },
  {
   "cell_type": "markdown",
   "metadata": {},
   "source": [
    "### Problem 2: continuous modeling\n",
    "\n",
    "Let's try to build a fancier (and prettier) simulation, this time using a different approach. Another way to think about the spread of diseases is akin to particles bouncing around in a box -- as these particles collide with each other they can \"spread\" the disease through random motion, which is actually a relatively safe analogy for what can happen in the real world. \n",
    "\n",
    "The first step in this problem has nothing to do with diseases at all -- we need to know how to simulate particles bouncing around in a box! Conceptually it's not too difficult, so let's lay out the following rules for our simulation. \n",
    "\n",
    "1. Particles can't leave the box, so we will need code that detects when a particle is at the edge of the box and causes it to \"bounce back\". \n",
    "\n",
    "2. Particles can't travel through each other, so we will need code that detects collisions and deals with this. In this problem we are going to treat the collisions as elastic -- this just means they will bounce off each other perfectly (no loss of energy) like billiard balls.\n",
    "\n",
    "3. The motion needs to be random, so we will need code that gives each particle its own random velocity.\n",
    "\n",
    "Let's start with a single particle and try to accomplish objective 1: getting it to bounce off the edge of the box. The scenario we need to program is this: \n",
    "\n",
    "<img src=\"elasticCollision.png\">\n",
    "\n",
    "Image credit: COS 226, Ben Tsou and Kevin Wayne, Princeton (https://introcs.cs.princeton.edu/java/assignments/collisions.html)\n",
    "\n",
    "The ball/particle has a velocity in both the x and y directions. When it hits either the \"top\" or \"bottom\" sides of the box we flip the y direction of the velocity -- likewise when it hits the \"left\" or \"right\" sides of the box we will flip the x direction of velocity. Here's some pseudo-code that describes this:\n",
    "\n",
    "```python\n",
    "#need to give the particle an initial velocity, position, and size\n",
    "radius = #radius of particle\n",
    "vx = #initial velocity in x direction\n",
    "vy = #initial velocity in y direction\n",
    "xPos = #initial x position, needs to be inside the box\n",
    "yPos = #initial y position, needs to be inside the box\n",
    "#need to set up the box the particle is in\n",
    "leftSide = -1 #imagine a line at x = -1\n",
    "rightSide = 1 #a line at x = +1\n",
    "topSide = 1 #a line at y = +1\n",
    "bottomSide = -1 #a line at y = -1\n",
    "#time conditions\n",
    "tStart = 0 \n",
    "tStop = 10 \n",
    "dt = 0.01 #this is the time step, and should be a \"small\" number\n",
    "#units here don't matter as long as they match velocity units\n",
    "\n",
    "xRecord = [] #initialize empty lists to keep track of where\n",
    "yRecord = [] #the particle has gone inside the box\n",
    "#now we evolve the system in time\n",
    "while t < tStop:\n",
    "    xPos += vx*dt #velocity*time = distance from old spot\n",
    "    yPos += vy*dt\n",
    "    xRecord.append(xPos)\n",
    "    yRecord.append(yPos)\n",
    "    if (xPos+radius) >= rightSide or (xPos-radius) <= leftSide:\n",
    "        vx = -vx #bounce back from left or right side\n",
    "    elif (yPos+radius) >= topSide or (yPos-radius) <= bottomSide:\n",
    "        vy = -vy #bounce back from top or bottom\n",
    "    t += dt #next time step\n",
    "```\n",
    "\n",
    "#### 2a: implement the above pseudo-code for a single particle in a box\n",
    "\n",
    "Plot the box and the record of where your particle travelled to confirm that it did indeed stay in the box! Play with the initial condition parameters to try out different things and make sure your code is showing reasonable results for different scenarios."
   ]
  },
  {
   "cell_type": "code",
   "execution_count": 75,
   "metadata": {},
   "outputs": [],
   "source": [
    "#your solution to 2a here:\n"
   ]
  },
  {
   "cell_type": "markdown",
   "metadata": {},
   "source": [
    "#### 2b: add more particles!\n",
    "\n",
    "To simulate a disease we obviously will need more than 1 person in our box, but how can we handle collisions between particles? The first thing to do is check if they've collided. We can do this using the distance formula: $d = \\sqrt{(x_2-x_1)^2 + (y_2-y_1)^2)}$. This is the distance between the centers of each particle, and if this distance is less than or equal to the sum of the radii of both particles we will consider this a collision (ie $R_1+R_2 \\leq d$). \n",
    "\n",
    "Since our particles are all the same size/mass in this simulation we can simulate the ricochet using the following function I will provide for you. If you are interested in how I derived this let me know and I am happy to show you the proof (or it is a fun exercise to try on your own if you like that sort of thing).\n",
    "\n",
    "```python \n",
    "# This function takes as input four vectors: v1, v2, pos1, and pos2\n",
    "# these vectors should be formatted like this: v = np.array([vx, vy]) \n",
    "# and pos = np.array ([x, y]) \n",
    "def velocityUpdate(v1,v2,pos1,pos2):\n",
    "    vVec1 = v1 - v2\n",
    "    posVec1 = pos1 - pos2\n",
    "    vVec2 = v2 - v1\n",
    "    posVec2 = pos2 - pos1\n",
    "    v1P = v1 - np.dot(vVec1,posVec1)*posVec1/np.linalg.norm(posVec1)**2\n",
    "    v2P = v2 - np.dot(vVec2,posVec2)*posVec2/np.linalg.norm(posVec2)**2\n",
    "    return v1P,v2P\n",
    "# it returns new vectors for the velocity of 1 and 2 \n",
    "# USAGE EXAMPLE:\n",
    "# initial velocities/positions\n",
    "v1 = np.array([v1x,v1y])\n",
    "v2 = np.array([v2x,v2y])\n",
    "pos1 = np.array([x1,y1])\n",
    "pos2 = np.array([x2,y2])\n",
    "# update velocities (v prime)\n",
    "v1P,v2P = velocityUpdate(v1,v2,pos1,pos2)\n",
    "# get the x and y components of the new velocities (if you want)\n",
    "v1xP = v1P[0] \n",
    "v1yP = v1P[1]\n",
    "v2xP = v2P[0]\n",
    "v2yP = v2P[1]\n",
    "```\n",
    "\n",
    "**Your turn:** Implement the distance condition in your code to check if there has been a collision, and if there is use the `velocityUpdate` code given above to change the velocities of both particles so that they \"bounce off\" each other. Start by adding just one new particle (so you have a total of two particles) and plot your solution and make sure it seems reasonable, then generalize this approach for n particles. Once you have it working for two it's pretty easy to add more! You will just need to store the particles and their velocities in big lists, and add loops to check all the different pairs for collisions to update the lists accordingly."
   ]
  },
  {
   "cell_type": "code",
   "execution_count": 74,
   "metadata": {},
   "outputs": [],
   "source": [
    "#your solution to 2b goes here: \n"
   ]
  },
  {
   "cell_type": "markdown",
   "metadata": {},
   "source": [
    "#### 2c: zombie particles! \n",
    "\n",
    "Now that you have a working particle in a box model, let's turn it into a disease model! The process you need to follow is outlined as follows:\n",
    "\n",
    "1. Create a list that keeps track of which particles are \"infected\" -- you can do this with 1s and 0s like we did in problem 1. Start with a couple particles initially infected just like we did before.\n",
    "\n",
    "2. Everytime an infected particle collides with a healthy one it becomes infected, and you will need to update the list accordingly. \n",
    "\n",
    "3. Set your simulation to run until all particles have become infected! \n",
    "\n",
    "In this problem you don't need to make a plot of what's happening in the box, but you should try to plot the cumulative number of infections over time like we did in exercise one. You should see a similar curve if your simulation is working correctly!\n",
    "\n",
    "**Challenge:** Try to make this model more realistic like you did for the stochastic model. Some things to get you started:\n",
    "\n",
    "1. Add in a probability of infection at collision -- instead of just automatically making each collision result in a new infection, add in a bit of chance like we had with the stochastic model.\n",
    "\n",
    "2. Make particles less infectious over time -- you can impose a hard cut-off (ie infectious for 14 time steps and then not infectious anymore) or you could also make it decay (make the probability of infecting another particle go down like $e^{-\\alpha t}$ where $\\alpha$ is some constant).\n",
    "\n",
    "3. Add in particle deaths. As before, add in a chance to remove a person from the population if they become infected and succumb to the disease. \n",
    "\n",
    "4. Implement social distancing measures. Make the initial velocities of the particles slower and/or make the particles smaller in size (so they are less likely to collide). What does this do to the curve? If you have implemented challenge 2 see if you can get this social distancing to result in killing off the virus! "
   ]
  },
  {
   "cell_type": "code",
   "execution_count": 61,
   "metadata": {},
   "outputs": [
    {
     "data": {
      "text/plain": [
       "-3.0"
      ]
     },
     "execution_count": 61,
     "metadata": {},
     "output_type": "execute_result"
    }
   ],
   "source": [
    "#your solution to 2c goes here:\n"
   ]
  },
  {
   "cell_type": "markdown",
   "metadata": {},
   "source": [
    "### Problem 3: animate!\n",
    "\n",
    "In this section you are going to make your first animations, to better illustrate the results of problems 1 and 2. In the cell below there is some sample code for making an animation -- try to play with it and make sure it will run on your machine (I am not sure if the prison computers have everything required for this, so if you get an error please let me know and I can provide instructions for Andrew/TAs on the necessary extra packages that would need to be installed). \n",
    "\n",
    "There are two ways to do this -- either using Python's built in animation software (which is slow and kind of sucks) or using a command line command (which is better but I'm not sure will work on your computers). Try running both cells below and seeing which one works for you."
   ]
  },
  {
   "cell_type": "code",
   "execution_count": 82,
   "metadata": {},
   "outputs": [
    {
     "data": {
      "image/png": "[encoded data removed]",
      "text/plain": [
       "<Figure size 432x288 with 1 Axes>"
      ]
     },
     "metadata": {
      "needs_background": "light"
     },
     "output_type": "display_data"
    }
   ],
   "source": [
    "#method 1: built in animation method from matplotlib\n",
    "import numpy as np\n",
    "from matplotlib import pyplot as plt\n",
    "from matplotlib.animation import FuncAnimation\n",
    "plt.style.use('seaborn-pastel')\n",
    "\n",
    "\n",
    "fig = plt.figure() #create a figure object\n",
    "ax = plt.axes(xlim=(0, 4), ylim=(-2, 2)) #create axes for our figure with limits\n",
    "line, = ax.plot([], [], lw=3) #create an empty line object to be modified by animation\n",
    "\n",
    "def init(): #this initializes our line with empty data\n",
    "    line.set_data([], []) \n",
    "    return line,\n",
    "def animate(i): #i here is the frame number\n",
    "    x = np.linspace(0, 4, 1000)\n",
    "    y = np.sin(2 * np.pi * (x - 0.01 * i)) #y value will change with i\n",
    "    line.set_data(x, y) #update our line with new info calculated here\n",
    "    return line,\n",
    "\n",
    "anim = FuncAnimation(fig, animate, init_func=init, frames=200, interval=20, blit=True)\n",
    "#operate on figure 'fig' with function 'animate' and initialization 'init'\n",
    "#do 200 frames (i goes to 200) spaced 20 apart, blit controls whether you redraw \n",
    "#the entire plot/animation or just the parts that have changed\n",
    "\n",
    "anim.save('sine_wave.gif', writer='imagemagick') \n",
    "#IF imagemagick doesn't work try 'ffmpeg'"
   ]
  },
  {
   "cell_type": "markdown",
   "metadata": {},
   "source": [
    "This outputs the following gif!\n",
    "![SegmentLocal](sine_wave.gif \"sine wave\")"
   ]
  },
  {
   "cell_type": "code",
   "execution_count": 95,
   "metadata": {},
   "outputs": [
    {
     "data": {
      "image/png": "[encoded data removed]",
      "text/plain": [
       "<Figure size 432x216 with 1 Axes>"
      ]
     },
     "metadata": {
      "needs_background": "light"
     },
     "output_type": "display_data"
    }
   ],
   "source": [
    "#method 2: manually compiling frames from command line with ffmpeg\n",
    "#I prefer this way because it's faster, you get more control over the resulting video/gif, and it's more \n",
    "#\"natural\" to program -- but it may not work on your computers...sorry.\n",
    "import matplotlib.pyplot as plt\n",
    "%matplotlib inline\n",
    "#generate some \"convincing evidence\"\n",
    "fig = plt.figure(1,figsize=(6,3))\n",
    "fig.clf()\n",
    "\n",
    "font = {'family' : 'FreeMono',\n",
    "        'weight' : 'bold',\n",
    "        'size'   : 8}\t\n",
    "plt.rc('font', **font) #set all plot font attributes according to above\n",
    "\n",
    "# Plot the initial conditions\n",
    "x = np.linspace(0,2*np.pi,100)\n",
    "y = np.sin(x)\n",
    "\n",
    "hdl, = plt.plot(x,y,linewidth=2,color='b',label='sine wave')\n",
    "tstr = 'Time : {:.6f}'.format\n",
    "htitle = plt.title(tstr(0))\n",
    "\n",
    "plt.xlabel('x',fontsize=16)\n",
    "plt.ylabel('y',fontsize=16)\n",
    "plt.xlim([0,2*np.pi])\n",
    "plt.ylim([-1,1])\n",
    "plt.legend()\n",
    "fig.canvas.draw()  \n",
    "fig.savefig('sineFrame000.png')\n",
    "\n",
    "tStop = 2*np.pi\n",
    "tRange = np.linspace(0,tStop,100)\n",
    "# Plot solution in time\n",
    "n = 1\n",
    "for t in tRange:\n",
    "    y = np.sin(x-t)\n",
    "    hdl.set_ydata(y)\n",
    "    htitle.set_text(tstr(t))\n",
    "    # Refresh plot; update title\n",
    "    fig.canvas.draw()      \n",
    "    fig.savefig('sineFrame%03d.png' %n)  #save frames to compile with ffmpeg\n",
    "    n += 1"
   ]
  },
  {
   "cell_type": "code",
   "execution_count": 6,
   "metadata": {},
   "outputs": [],
   "source": [
    "import subprocess\n",
    "#this actually makes the animation by stitching together all the frames and then removing them\n",
    "def makeAnim():\n",
    "    subprocess.call(['ffmpeg -framerate 30 -i \"sineFrame%03d.png\" -c:v libx264 -preset slow -coder 1 -movflags +faststart -g 15 -crf 18 -pix_fmt yuv420p -profile:v high -y -bf 2 -fs 15M \"sineMovie.mp4\"'],shell=True)\n",
    "    subprocess.call(['rm *.png'],shell=True) #clear frames\n",
    "makeAnim()\n",
    "#display the video in cell below"
   ]
  },
  {
   "cell_type": "code",
   "execution_count": 7,
   "metadata": {},
   "outputs": [
    {
     "data": {
      "text/html": [
       "<video width=\"600\" height=\"300\" controls>\n",
       "  <source src=\"sineMovie.mp4\" type=\"video/mp4\">\n",
       "</video>\n"
      ],
      "text/plain": [
       "<IPython.core.display.HTML object>"
      ]
     },
     "metadata": {},
     "output_type": "display_data"
    }
   ],
   "source": [
    "%%HTML\n",
    "<video width=\"600\" height=\"300\" controls>\n",
    "  <source src=\"sineMovie.mp4\" type=\"video/mp4\">\n",
    "</video>"
   ]
  },
  {
   "cell_type": "markdown",
   "metadata": {},
   "source": [
    "**Your turn!** Using the examples above, see if you can animate your plot in problem 1 to show how the curve grows over time. Once you've got that figured out, try to make a video of the collisions in your infectious box in problem 2 accompanied by the same curve. To do this you'll need to use the `subplots` command, which you can find an example of in the plotting examples notebook I've already shared with you. You'll also need to color your particles to denote whether they're infected or not -- I suggest red for infected and green for healthy but you can use whatever you like. When you finish, send me your animations -- I'd love to see them!"
   ]
  },
  {
   "cell_type": "code",
   "execution_count": null,
   "metadata": {},
   "outputs": [],
   "source": [
    "#your solution to problem 3 goes here: \n"
   ]
  }
 ],
 "metadata": {
  "kernelspec": {
   "display_name": "Python 3",
   "language": "python",
   "name": "python3"
  },
  "language_info": {
   "codemirror_mode": {
    "name": "ipython",
    "version": 3
   },
   "file_extension": ".py",
   "mimetype": "text/x-python",
   "name": "python",
   "nbconvert_exporter": "python",
   "pygments_lexer": "ipython3",
   "version": "3.7.3"
  }
 },
 "nbformat": 4,
 "nbformat_minor": 2
}
