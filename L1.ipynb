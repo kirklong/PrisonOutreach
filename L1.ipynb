{
 "cells": [
  {
   "cell_type": "markdown",
   "metadata": {},
   "source": [
    "# Solving Problems with Python: an Introduction to Data Science\n",
    "\n",
    "**1. What is Python?**\n",
    "\n",
    "Python is a *high level interpreted* programming language. What does this mean? Python's higher level syntax means that Python code is highly readable and much easier to intuitively understand than many lower-level langauges--this makes it a great language to learn and start your programming journey in! In Python you don't have to use excessive amounts of brackets or & or deal with many of the other syntax frustrations lower level langauges often introduce. Python is an interpreted langauge, which means that it's easy to modify programs and run them in real time, but the downside is this makes it significantly slower than a lower level compiled langauge like C or Fortran. \n",
    "\n",
    "The best of both worlds may lie in up and coming languages like Julia, which boast C-like performance but with higher-level Python syntax. Why learn Python then instead of something like Julia? It's still a little easier than Julia, but more importantly it is stabler and used more broadly across fields -- making Python perhaps ***the*** most useful language you can learn today. That being said I personally prefer Julia to Python and am happy to teach you that as well. :)\n",
    "\n",
    "**2. What can I use Python for?**\n",
    "\n",
    "Nearly anything! It's used for scientific research at universities and national labs (including NASA!) but it's also used extensively by web developers, game designers, and industry (in our area HP and Micron are two notable employers who use Python in their product development/testing). \n",
    "\n",
    "**3. What will we be doing?**\n",
    "\n",
    "In this introductory class I hope to introduce to you the foundational skills required to use Python (and other languages should you choose to learn them), specifically with applications to real science/modelling problems! No prior understanding of coding/science required--we will learn together as we go!"
   ]
  },
  {
   "cell_type": "markdown",
   "metadata": {},
   "source": [
    "## Lesson 1: Starting out\n",
    "\n",
    "You are running Python out of a Jupyter Notebook right now. I like them because they are easy to mesh text (like this) and code (like you will see below). Let's start by making sure you know how to open Jupyter notebook and saving your work to your personal folder (ask Mr. Shepard, me, or one of the TAs for help if you need it). You can make Python programs in any text editor and run them from the command line, something we might explore later, but for now we will work mostly out of notebooks for their ease of use.\n",
    "\n",
    "Jupyter notebooks have two kinds of cells--code and markdown. This is a markdown cell (which makes text formatting easy). You can change the cell type with the dropdown menu at the top of the page. Markdown cells are useful as notes to accompany your code/explain things.\n",
    "\n",
    "### Exercise 1: make your first markdown note\n",
    "\n",
    "Change the cell type below from code to markdown, and write \"Hello world!\". Run the cell by clicking the run button or by pushing Shift+Enter. Next, modify the cell to make italicize or bold the text (hint: look in one of the cells I've written above to find an example of how to do this)."
   ]
  },
  {
   "cell_type": "code",
   "execution_count": null,
   "metadata": {},
   "outputs": [],
   "source": []
  },
  {
   "cell_type": "markdown",
   "metadata": {},
   "source": [
    "### Exercise 2: say hello with code\n",
    "\n",
    "It's important to be able to interact with our code to understand what it's doing and effectively debug it, and the easiest way to do this is with the print() function. Here's an example:"
   ]
  },
  {
   "cell_type": "code",
   "execution_count": 2,
   "metadata": {},
   "outputs": [
    {
     "name": "stdout",
     "output_type": "stream",
     "text": [
      "my name is Kirk\n"
     ]
    }
   ],
   "source": [
    "#This is a comment: anything after a hashtag/pound sign will be ignored by the program,\n",
    "#so we can write whatever we want in plain english without causing an error!\n",
    "print(\"my name is Kirk\")"
   ]
  },
  {
   "cell_type": "markdown",
   "metadata": {},
   "source": [
    "**Your turn:** write your own print command in the cell below to get the computer to say hello world!"
   ]
  },
  {
   "cell_type": "code",
   "execution_count": null,
   "metadata": {},
   "outputs": [],
   "source": [
    "#your code here\n"
   ]
  },
  {
   "cell_type": "markdown",
   "metadata": {},
   "source": [
    "### Exercise 3: variables\n",
    "\n",
    "Variables are an incredibly important part of any programming language. They allow us to store information for later use by the program, and we create them with the = sign (also known as the assignment operator). Here's an example: "
   ]
  },
  {
   "cell_type": "code",
   "execution_count": 4,
   "metadata": {},
   "outputs": [
    {
     "name": "stdout",
     "output_type": "stream",
     "text": [
      "5\n"
     ]
    }
   ],
   "source": [
    "x = 5 #here I have made a variable called x that has a value of 5\n",
    "print(x) #let's see what x is!"
   ]
  },
  {
   "cell_type": "code",
   "execution_count": 5,
   "metadata": {},
   "outputs": [
    {
     "name": "stdout",
     "output_type": "stream",
     "text": [
      "my name is kirk\n"
     ]
    }
   ],
   "source": [
    "string = \"my name is kirk\" #here I have made a variable called string that holds the phrase I wrote above\n",
    "print(string) #notice the output is the same as it was before"
   ]
  },
  {
   "cell_type": "markdown",
   "metadata": {},
   "source": [
    "**Your turn:** write your own code below that will save \"hello world\" to a variable, then print that variable to the console "
   ]
  },
  {
   "cell_type": "code",
   "execution_count": null,
   "metadata": {},
   "outputs": [],
   "source": [
    "#your code here\n"
   ]
  },
  {
   "cell_type": "markdown",
   "metadata": {},
   "source": [
    "#### Variable rules cheat sheet:\n",
    "\n",
    "1. Variable names must be unique. If you name two things x it will only remember the second one.\n",
    "\n",
    "2. Variable names cannot start with a number. For example, ```variable1 = x``` is fine but ``` 1variable = x ``` is not.  \n",
    "\n",
    "3. No spaces! Variable names must be connected. You can combine multiple words with underscores (ie ``` my_variable = x ```) or using camelCase (ie ``` myVariable = x ```) \n",
    "\n",
    "4. Variables can be added/subtracted/etc together (as long as they're the same type) to create a new result (this is the most common way we use them). \n"
   ]
  },
  {
   "cell_type": "markdown",
   "metadata": {},
   "source": [
    "### Exercise 4: manipulating variables\n",
    "\n",
    "We can use the standard mathematical operators on variables to do math (or other things) with them, assuming that they are the same type (we can't add 5 to \"hello\" for example). Consider the following simple word problem:\n",
    "\n",
    "John has 12 cookies and Sally has 3. John eats half his cookies and Sally eats 1, but John is feeling kind of sick of cookies now so he gives half of his remaining cookies to Sally, who then eats another one. How many cookies do John and Sally have now? "
   ]
  },
  {
   "cell_type": "code",
   "execution_count": 1,
   "metadata": {},
   "outputs": [
    {
     "name": "stdout",
     "output_type": "stream",
     "text": [
      "John starts with 12 cookies and Sally starts with 3 cookies.\n",
      "After eating half John now has 6.0 cookies and after eating one Sally now has 2 cookies.\n",
      "John gave half of his reamining cookies to Sally, who ate another one.\n",
      "At the end John has 3.0 cookies and Sally has 4.0 cookies.\n"
     ]
    }
   ],
   "source": [
    "johnCookies = 12 #john starts with 12\n",
    "sallyCookies = 3 #sally starts with 3\n",
    "\n",
    "print(\"John starts with\",johnCookies,\"cookies and Sally starts with\",sallyCookies,\"cookies.\")\n",
    "\n",
    "johnCookies = johnCookies/2 #john eats half his cookies \n",
    "sallyCookies = sallyCookies - 1 #sally eats 1 \n",
    "\n",
    "print(\"After eating half John now has\",johnCookies,\"cookies and after eating one Sally now has\",sallyCookies,\"cookies.\")\n",
    "\n",
    "sallyCookies = sallyCookies + johnCookies/2 -1 #sally gets half of john's remaining cookies but eats 1\n",
    "johnCookies = johnCookies/2 #john gives away half of his remaining cookies \n",
    "\n",
    "print(\"John gave half of his reamining cookies to Sally, who ate another one.\")\n",
    "print(\"At the end John has\",johnCookies,\"cookies and Sally has\",sallyCookies,\"cookies.\")"
   ]
  },
  {
   "cell_type": "markdown",
   "metadata": {},
   "source": [
    "**Your turn:** Solve this word problem with code!\n",
    "\n",
    "Captain Kirk has 200 photon torpedoes available on the Enterprise, with 12 Klingon birds of prey closing in fast. Each bird of prey can take 8 torpedo hits before being destroyed. Assuming Sulu can outmaneuver the Klingons and the Scotty can keep the ship's integrity intact during the battle, how many torpedoes will the Enterprise be left with? \n",
    "\n",
    "**Challenge:** Chekov is a good shot, but nobody's perfect. If 25% of the shots miss, how many torpedoes are left?"
   ]
  },
  {
   "cell_type": "code",
   "execution_count": null,
   "metadata": {},
   "outputs": [],
   "source": [
    "#your code here\n"
   ]
  },
  {
   "cell_type": "markdown",
   "metadata": {},
   "source": [
    "### Exercise 5: using modules\n",
    "\n",
    "By default Python only comes with a few parts \"turned on.\" This is to save memory/other computing resources for things you may not need. There are many extra packages that we can use in Python to do tasks that might otherwise take a long time, and to access these packages we import them. Here's an example using the random module, which allows us to generate random numbers on demand. "
   ]
  },
  {
   "cell_type": "code",
   "execution_count": 16,
   "metadata": {},
   "outputs": [
    {
     "name": "stdout",
     "output_type": "stream",
     "text": [
      "8\n"
     ]
    }
   ],
   "source": [
    "import random #notice how the import statement is colored green--this means it's an important Python keyword\n",
    "\n",
    "randomNumber = random.randint(0,10) #get a random integer between 0 and 10\n",
    "print(randomNumber)\n"
   ]
  },
  {
   "cell_type": "markdown",
   "metadata": {},
   "source": [
    "**Your turn:** Write code that simulates the rolling of a six-sided die and prints the result in the following format: \"your die rolled a ```your number from code here```\""
   ]
  },
  {
   "cell_type": "code",
   "execution_count": null,
   "metadata": {},
   "outputs": [],
   "source": [
    "#your code here\n"
   ]
  },
  {
   "cell_type": "markdown",
   "metadata": {},
   "source": [
    "### Exercise 6: functions\n",
    "\n",
    "**Functions** are at the heart of all programming languages and they fall into two broad categories: user defined and \"built-in\" functions. A function is anything that has parantheses, and whenever we use a function we say we are \"calling\" it. For example, ```print()``` is an example of a built-in Python function that you've already been using! \n",
    "\n",
    "\n",
    "Functions are powerful because they allow us to reuse important code as many times as we like without having to type everything out again. Here's a template you can use to model your own functions:\n",
    "\n",
    "```python\n",
    "def myFunction(arg1,arg2,etc...): #note: arguments are NOT required\n",
    "    some code... #note that the code in the body of the function MUST BE INDENTED\n",
    "    ...\n",
    "    ...\n",
    "    return myFunctionVariable #note: return is optional but important if you want to use result of function\n",
    "```"
   ]
  },
  {
   "cell_type": "code",
   "execution_count": 2,
   "metadata": {},
   "outputs": [],
   "source": [
    "#Here is a sample function that prints \"hello world\"\n",
    "\n",
    "def sayHello():          #here we define a function named sayHello that takes no arguments\n",
    "    print(\"hello world\") #everytime this function is run it will print \"hello world\" to the console"
   ]
  },
  {
   "cell_type": "code",
   "execution_count": 4,
   "metadata": {},
   "outputs": [
    {
     "name": "stdout",
     "output_type": "stream",
     "text": [
      "hello world\n"
     ]
    }
   ],
   "source": [
    "sayHello() #this is how we call the function created above--and it does what we expected!"
   ]
  },
  {
   "cell_type": "markdown",
   "metadata": {},
   "source": [
    "This is a pretty useless example, as typing ```sayHello()``` vs \n",
    "```python \n",
    "print(\"hello world\")\n",
    "``` \n",
    "doesn't save us that much time.\n",
    "\n",
    "**Your turn:** Using the code you created in exercise 5 above, create a function that rolls your die and prints the result to the console. \n",
    "\n",
    "**Challenge 1:** Modify your function to return the value of the roll and store it to a variable for later use. You can do this by adding a return statement to the bottom of your function, then setting the function equal to a variable (ie ```x = myFunction()```).\n",
    "\n",
    "**Challenge 2:** Add an argument to your function that allows you to change the number of sides on the virtual die each time you run it...ie ```myFunction(6)``` would roll a six-sided die, whereas ```myFunction(20)``` would roll a 20-sided die."
   ]
  },
  {
   "cell_type": "code",
   "execution_count": 6,
   "metadata": {},
   "outputs": [],
   "source": [
    "#your code here...\n"
   ]
  }
 ],
 "metadata": {
  "kernelspec": {
   "display_name": "Python 3",
   "language": "python",
   "name": "python3"
  },
  "language_info": {
   "codemirror_mode": {
    "name": "ipython",
    "version": 3
   },
   "file_extension": ".py",
   "mimetype": "text/x-python",
   "name": "python",
   "nbconvert_exporter": "python",
   "pygments_lexer": "ipython3",
   "version": "3.7.3"
  }
 },
 "nbformat": 4,
 "nbformat_minor": 2
}
