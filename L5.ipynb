{
 "cells": [
  {
   "cell_type": "markdown",
   "metadata": {},
   "source": [
    "# Solving Problems with Python: an Introduction to Data Science\n",
    "\n",
    "## Lesson 5/Project 1: Using models and data to infer important properties of physical systems\n",
    "\n",
    "## Your first independent project\n",
    "\n",
    "In this lesson you will take your skills from the previous two lessons and combine them to prove some interesting (albeit well-established) physical phenomena involving our two most important celestial neighbors--the Sun and the Moon. There is significantly less pseudo code in this notebook than there have been in others--this is your first independent project to test your skills and knowledge, but please use all of the previous resources/documentation you have used thus far. \n",
    "\n",
    "**Note:** I am of course still totally willing (and expecting) to help you! These are meant to be more challenging exercises so don't fret if you are overwhelmed/don't get it right away -- you'll get it. This is supposed to take you more than just an hour or two/just 1 class.\n",
    "\n",
    "\n",
    "## Exercise 1: analyzing a solar eclipse\n",
    "\n",
    "1. Load the data `weather_data.txt`. This data was taken by one of my professors with a Raspberry Pi in his backyard during the solar eclipse a few years ago. It has three columns -- one with a timestamp, one with a temperature reading (in Celsius), and one with relative percent humidity. You can convert the Unix timestamp to a more readable date with the `datetime` module (example below) or you can simply subtract out the initial value from every other data point to transform the dates into the form \"seconds past start.\"\n",
    "\n",
    "2. Plot both the humidity and temperature as a function of time. What do you notice about their relationship?\n",
    "\n",
    "3. You should notice a small dip/spike about 2/3 of the way into the data. This is from the solar eclipse! Using methods we've previously discussed on both the humidity and temperature data sets find the following info:\n",
    "\n",
    "    a. When did the eclipse peak darkness occur? \n",
    "    \n",
    "    b. How long did the eclipse last?\n",
    "    \n",
    "    c. What drop in temperature/gain in humidity was observed during the eclipse and what caused this?\n",
    "    \n",
    "    d. How different are your answers to a and b depending on whether you use the humidity/temperature data?\n",
    "    \n",
    "    e. Modify your plots to suitably illustrate these points.\n",
    "        \n",
    "4. Create a new plot showing a more \"zoomed in\" view of just the eclipse portion of the data. How long is spent in \"totality\" -- the area of maximum darkness? What causes the eclipse to be so short -- the moon's movement, the Earth's rotation, or both? \n",
    "\n",
    "5. Based on your answer above, extrapolate to get either the length of a day or the length of a lunar month. The angular width of both the Sun and the moon is roughly 0.5 degrees. Use this fact and the knowledge that 360 degrees of movement completes one rotation to calculate your answer. A day is of course 24 hours, and lunar months are roughly 29.5 days long -- does your simple calculation agree with what you expect?\n",
    "\n",
    "As always, make sure your plots are nicely labelled, scaled, colored, etc. with correct units! \n",
    "\n",
    "**Using `datetime` example**\n",
    "```python\n",
    "from datetime import datetime\n",
    "ts = int(\"1284101485\") #convert a string unix timestamp (like one might find in a text file) to an integer\n",
    "print(datetime.utcfromtimestamp(ts).strftime('%Y-%m-%d %H:%M:%S')) #print the result in a nice format\n",
    "#if you encounter a \"year is out of range\" error the timestamp\n",
    "#may be in milliseconds, try `ts /= 1000` in that case\n",
    "```\n",
    "\n"
   ]
  },
  {
   "cell_type": "code",
   "execution_count": 1,
   "metadata": {},
   "outputs": [],
   "source": [
    "#your solution to part 1 here\n"
   ]
  },
  {
   "cell_type": "markdown",
   "metadata": {},
   "source": [
    "### Exercise 2: the solar cycle\n",
    "\n",
    "1. Import the data file containing sunspot observations (`sunspots.txt`). This file contains continuous data recorded since January of 1749! Each entry is the total number of sunspots observed on the surface of the Sun for that month. \n",
    "2. Plot the data with the sunspot counts on the y-axis time on the x-axis. Does it look like this data is periodic? \n",
    "3. Assuming the data is periodic, try to fit it with a sine wave. Guess from the graph to find the average amplitude, frequency, and phase shift for your fitted wave. If you need a refresher on the sine function check out the notes below.\n",
    "4. Test your assumption by using a fast-fourier-transform (FFT). Pseudocode to do this is below. Plot the results of the FFT and find the dominant frequency -- how closely does it match your guess?\n",
    "5. Use this data and your periodic sine wave model to predict when the next three solar maximums will happen.\n",
    "6. **Challenge:** use an FFT to further analyze exercise 1 -- how long is a day, according to this data and its  FFT? Is there a sizeable contribution to the FFT from the eclipse? If so (and you can identify it) what period does this yield and does it agree with your earlier result?\n",
    "\n",
    "**Sine function refresher**\n",
    "\n",
    "$y(t) = Asin(2\\pi f * t + \\theta_0) + y_0$ -- what does this mean? \n",
    "\n",
    "**A** represents the *amplitude* of the wave -- by default the sine function oscillates between -1 and +1 but if you make A 10 (for example) then you will get values between -10 and 10. The value of A you will want to use will probably be half the average height.\n",
    "\n",
    "$y_0$ represents the shift from 0. Since normally the sine function might return a negative value we want to shift it so that the lowest number it can spit out is zero. Thus, this value should be equal to A so that the bottom of the wave is zero.\n",
    "\n",
    "**f** represents the *frequency* of the wave -- a higher f value will make the wave look more \"squished\" together and a lower f value will spread it out. You can estimate this by either counting all peaks and dividing by the total time (thus getting peaks/time) or by estimating the period and then inverting it ($f=1/period$)--for example if you think it looks like the thing repeats once every ~20 years your value of f would be 1/20 cycles/year.\n",
    "\n",
    "**t** here represents *time* -- in physics the base unit of time is seconds but it can represent months, years, etc. as well. This is just a variable and you should not solve try to solve for it.\n",
    "\n",
    "$\\theta_0$ represents the phase shift -- aka the initial angle you want the sine function to start at. By default at t = 0 the sin(0) = 0, but what if your data doesn't start at 0? That's what you use $\\theta_0$ for! For example, adding in $\\theta_0 = \\pi/2$ would mean that at t = 0 the function would now return $\\sin(\\pi/2) = 1$. \n",
    "\n",
    "**FFT example code**\n",
    "\n",
    "```python\n",
    "from scipy.fftpack import fft, ifft\n",
    "c = fft(data) #get fourier coefficients of data -- these include complex numbers\n",
    "cReal = np.abs(c) #get rid of the complex components \n",
    "cReal[0] = 0 #the first component will be huge, but this is a non-physical mathematical artifact so we set it to zero.\n",
    "plt.plot(cReal[0:len(cReal)//2]**2) #transform is symmetric so don't care about second half, squaring them to make peaks better defined\n",
    "plt.show()\n",
    "\n",
    "#if you want to check it take the inverse fourier transform (ifft)\n",
    "plt.plot(ifft(c)) #should be the same graph as original data (or very very close)\n",
    "```\n",
    "\n",
    "The resulting graph is essentially a plot of the importance of different frequencies -- you should notice when you do this that there is a large spike at one particular frequency. To find the frequency of this spike you simply need to find the index of the maximum and divide that by the total number of samples fed into it (in this case the number of months). Fourier transforms are complicated mathematically (so I have omitted many details) but they are incredibly useful for scientists seeking to understand if something is periodic!"
   ]
  },
  {
   "cell_type": "code",
   "execution_count": null,
   "metadata": {},
   "outputs": [],
   "source": [
    "#your solution to part 2 here\n"
   ]
  }
 ],
 "metadata": {
  "kernelspec": {
   "display_name": "Python 3",
   "language": "python",
   "name": "python3"
  },
  "language_info": {
   "codemirror_mode": {
    "name": "ipython",
    "version": 3
   },
   "file_extension": ".py",
   "mimetype": "text/x-python",
   "name": "python",
   "nbconvert_exporter": "python",
   "pygments_lexer": "ipython3",
   "version": "3.7.3"
  }
 },
 "nbformat": 4,
 "nbformat_minor": 2
}
