{
 "cells": [
  {
   "cell_type": "markdown",
   "metadata": {},
   "source": [
    "# Solving Problems with Python: an Introduction to Data Science\n",
    "\n",
    "## Lesson 4: an introduction to modelling\n",
    "\n",
    "In this lesson we are going to shift away (temporarily) from reading in data and instead focusing on rudimentary system modelling skills. What does this mean? We're going to use math to theoretically predict what something should look like! Later we will combine our skills with actual data to see how well our theory predicts actual results.\n",
    "\n",
    "### Exercise 1: finding machine precision\n",
    "\n",
    "Computers, while very advanced, are only so precise. Most modern computers operate on a 64 bit architecture, which means we have 64 bits to represent possible numbers (a lot of these bits are used up for things other than the actual number, however). If two numbers are within what we call \"machine precision\" of each other results can be somewhat unexpected... Consider the following example:\n",
    "\n",
    "```python\n",
    "x = 1e20 + 1 - 1e20 #big number + 1 - big number...should be 1 right?\n",
    "y = 1e20 - 1e20 + 1 #big number - big number + 1...should be the same as above right?\n",
    "```\n",
    "Run the above code in the cell below and print the values of x and y...do your results make sense?"
   ]
  },
  {
   "cell_type": "code",
   "execution_count": 21,
   "metadata": {},
   "outputs": [
    {
     "name": "stdout",
     "output_type": "stream",
     "text": [
      "1.0200000000000005\n"
     ]
    }
   ],
   "source": [
    "#your code here\n"
   ]
  },
  {
   "cell_type": "markdown",
   "metadata": {},
   "source": [
    "You should notice that the first way returns 0 while the second way returns the right value of 1. **Modify the exponents** (ie try `1e14 + 1 - 1e14`) and report for what value of e does the solution work both ways. "
   ]
  },
  {
   "cell_type": "code",
   "execution_count": 27,
   "metadata": {},
   "outputs": [],
   "source": [
    "#your code goes here\n"
   ]
  },
  {
   "cell_type": "markdown",
   "metadata": {},
   "source": [
    "Congratulations! You've just found machine precision (sometimes also called machine $\\epsilon$). For a double precision decimal number (what you're using in Python) this means we have 16 significant digits. When we use the print function by default we only display a few digits, but we can access all 16 with the following format command:\n",
    "```python\n",
    "print('{0:.17f}'.format(number))\n",
    "```\n",
    "The .17 means we want to return 17 places after the decimal point (to show that the 17th will usually be imprecise while the first 16 can be exact).\n",
    "\n",
    "### Exercise 2: exact numbers in binary\n",
    "\n",
    "Why is there any imprecision at all? Only numbers that can be broken up into powers of 2 can be accurately represented in binary, and even then there are size limitations based on the number of bits available -- all other numbers are simply *really* close (to 16 decimal places as you have discovered above). \n",
    "\n",
    "**Your turn:** Try printing out a few different numbers using the formatting method above. When you do this do your numbers appear to follow the rule outlined above? Try both decimal and whole numbers. Compare what happens when you print the numbers with the default print statement and the formatted version."
   ]
  },
  {
   "cell_type": "code",
   "execution_count": 47,
   "metadata": {},
   "outputs": [],
   "source": [
    "#your code goes here\n"
   ]
  },
  {
   "cell_type": "markdown",
   "metadata": {},
   "source": [
    "### Exercise 3: Patriot missile failure\n",
    "On February 25, 1991, during the Gulf War, an American Patriot Missile battery in Dharhan,\n",
    "Saudi Arabia, failed to track and intercept an incoming Iraqi Scud missile, which subsequently\n",
    "hit an American base killing 28 soldiers and injuring many more. This was due to an inaccurate\n",
    "calculation of time for the internal missile battery computer. The computer was tracking time by\n",
    "counting up in tenths of seconds that had elapsed since it was last turned on. The Patriot battery (being an older technology) used\n",
    "24 bit fixed point arithmetics, which mean that instead of summing up dt = 0.1, the system was\n",
    "making an error of about 0.000000095 s in each addition (adding up dt = 0.100000095 instead\n",
    "of 0.1).\n",
    "\n",
    "**A: Calculating total time error**\n",
    "\n",
    "Against the Army's recommendations the missile defense system had been operating for over 100 hours continuously before it was destroyed. Calculate how far off the system's clock was at the time (using the value given above, not modern 64 bit precision)."
   ]
  },
  {
   "cell_type": "code",
   "execution_count": 55,
   "metadata": {},
   "outputs": [],
   "source": [
    "#your solution to A here\n"
   ]
  },
  {
   "cell_type": "markdown",
   "metadata": {},
   "source": [
    "**B: What difference does a fraction of a second make?**\n",
    "\n",
    "The Scud missile travelled at $\\sim$1675 m/s. The \"range gate\" of the Patriot missile radar system is about 130m --\n",
    "which means that it can track (and hit) a target as long as it stays within 130m of where it's supposed to be. How far did the Scud travel during the time which the Patriot’s system clock was off by?"
   ]
  },
  {
   "cell_type": "code",
   "execution_count": 56,
   "metadata": {},
   "outputs": [],
   "source": [
    "#your solution to B here\n"
   ]
  },
  {
   "cell_type": "markdown",
   "metadata": {},
   "source": [
    "**C: Minimum acceptable error**\n",
    "\n",
    "Around the same time of the incident the Army had become aware of the potential security risk this posed and they had developed a software patch that would mitigate the impact of running the Patriot systems for longer periods of time. Given your solution to part B above and the size of the range gate, what minimum total time error would be required to operate the Patriot missile system for 100 hours? Assuming the system still updates its internal clock every 0.1 seconds, what error is acceptable for each time addition? "
   ]
  },
  {
   "cell_type": "code",
   "execution_count": 57,
   "metadata": {},
   "outputs": [],
   "source": [
    "#your solution to C here\n"
   ]
  },
  {
   "cell_type": "markdown",
   "metadata": {},
   "source": [
    "**D: Comparing to modern precision**\n",
    "\n",
    "Check the error on your machine for a value of 0.1 seconds (see exercise 2). What would have been the total time error if the Patriot systems used 64 bit double precision numbers (like you are using) and how far would the Scude have travelled in that time? Given the range gate of 130m, would the incident have happened if the Army had used a 64 bit computer? \n",
    "\n",
    "**Challenge:** How long would it be safe to run a Patriot missile system using a modern computer? \n",
    "\n",
    "If you're interested in reading more about this problem, see the PDF report on the incident from the government accountability office in the Python folder."
   ]
  },
  {
   "cell_type": "code",
   "execution_count": 58,
   "metadata": {},
   "outputs": [],
   "source": [
    "#your solution to D here\n"
   ]
  },
  {
   "cell_type": "markdown",
   "metadata": {},
   "source": [
    "### Exercise 4: solving equations using SciPy\n",
    "\n",
    "The `scipy` module is a powerful scientific computing package in Python that has many powerful tools. Today we are going to use a built in equation solver -- later in the course we will learn how it works and how to make our own version, but for now we are going to use it as is. Here's an example of solving an equation with the bisection method:\n",
    "\n",
    "Suppose we have a function $f(x) = x^2-1$. We can write this mathematical function as a Python function like this:\n",
    "```python\n",
    "def f(x):\n",
    "    return (x**2 - 1)\n",
    "```\n",
    "\n",
    "What if I want to know where the root of this function is (where it = 0). I could solve this algebraically (set $f(x) = 0$ and solve for x) or I could be lazy and use the `scipy` package like this:\n",
    "```python\n",
    "from scipy import optimize\n",
    "root = optimize.bisect(f, 0, 2) \n",
    "```\n",
    "Here `f` is the function I created above and I'm searching for a root in the range `(0,2)`. \n",
    "\n",
    "**Your turn:**\n",
    "Run this code to find the root of $f(x)=x^2-1)$, then make a nice plot that verifies that it does indeed equal zero there. There's another root that you haven't found yet--change the interval to include that root and plot both.\n"
   ]
  },
  {
   "cell_type": "code",
   "execution_count": 59,
   "metadata": {},
   "outputs": [],
   "source": [
    "#your code here\n"
   ]
  },
  {
   "cell_type": "markdown",
   "metadata": {},
   "source": [
    "### Exercise 5: war games\n",
    "\n",
    "A short-range nuclear ballistic missile was launched from a hostile submarine towards an important strategic location with coordinates $(x_0,y_0)=(0,0)$ (where x is a distance, and y is height above the sea level, both in kilometers) along a trajectory given by $f(x)=-0.002x^2+0.4x$.\n",
    "\n",
    "Luckily, you are a top DARPA scientist at a secret base situated at $(x_b,y_b)=(10,0)$ km, right along the path of the missile. Your new laser gun is currently pointed to shoot along the trajectory $g(x)=0.3x-2.3$, and it cannot be easily re-targeted (it’s a fragile prototype, after all).\n",
    "\n",
    "**A: finding the location of the enemy submarine**\n",
    "\n",
    "Use the bisection method (see exercise 4) to find the location of the submarine that fired the missile. \n",
    "\n",
    "**Hint:** the submarine must be surfaced to fire the ballistic missile, so the vertical coordinate $y_s = 0$ and you just need to find the right root where $f(x) = 0$."
   ]
  },
  {
   "cell_type": "code",
   "execution_count": 60,
   "metadata": {},
   "outputs": [],
   "source": [
    "#your solution to A\n"
   ]
  },
  {
   "cell_type": "markdown",
   "metadata": {},
   "source": [
    "**B: creating a tactical map**\n",
    "\n",
    "Make a plot showing the trajectory of the missile and all important locations (submarine, your secret base, and the strategic target). Make sure your plot has a title, legend, and appropriate axes labels. In the way we've set the problem up the target should be on the left side of the graph (at the origin) and the submarine on the rigth side of the graph (some positive distance x from the origin). "
   ]
  },
  {
   "cell_type": "code",
   "execution_count": 1,
   "metadata": {},
   "outputs": [],
   "source": [
    "#your solution to B\n"
   ]
  },
  {
   "cell_type": "markdown",
   "metadata": {},
   "source": [
    "**C: shooting down the missile**\n",
    "\n",
    "Add the laser trajectory ($g(x)$) to your plot from B to get an eyeball estimate for where the laser will be capable of intercepting the missile. Use the bisection method to find the exact x coordinate for where the missile will be destroyed by your laser. There's a large coastal city located at $(x_c,y_c)=(50,0)$ km and any nuclear fallout from the missile's destruction could pose a health risk to its residents. Based on the coordinates you find for the missile's destruction, will you need to evacuate the city? \n",
    "\n",
    "Add markers for both the coastal city and the missile's destruction to your plot.\n",
    "\n",
    "**Hint:** recall that two \"lines\" will intersect when their values are equal (ie $f(x)=g(x)$). We can rearrange this statement to read $f(x)-g(x)=0$ and we can then solve this equation as we did before. \n",
    "\n",
    "**Challenge 1:** Bisection is just one of many methods available in the `scipy` package. Try finding the root with the Newton method (`optimize.newton(function, x0, derivative)`) where `function` is the function you want to find the zero of (as before), `x0` is an initial guess for where the zero might be, and `derivative` is an *optional* parameter for the derivative of the function (if you don't know what a derivative is or how to calculate it that's fine -- you can leave this out and the function will then use something called the secant method). \n",
    "\n",
    "Does the value of the root differ depending on which method you use? If so, by how much, and why do you think this might be?\n",
    "\n",
    "**Challenge 2:** In checking to see if we needed to evacuate the city above we assumed the debris would fall straight down, but this is probably not a very good model for what would actually happen. A slightly better (but still not great) model would be to assume that radioactive debris from the missile would continue falling at the speed the missile was travelling until it hits the ground. If we neglect air resistance we can model the time it takes for something to hit the ground from a height $y$ using the equation $y(t)=\\frac{1}{2}gt^2$ where $g\\approx 9.8 \\frac{m}{s^2}$. Based on the height where the missile is intercepted, how long will it take for the debris from the explosion to hit the ground? If we assume the missile to be travelling with a speed of 1.7 km/s prior to impact do we need to evacuate the city? Add a debris projection to your plot with your results.\n"
   ]
  },
  {
   "cell_type": "code",
   "execution_count": null,
   "metadata": {},
   "outputs": [],
   "source": [
    "#part C solution here\n"
   ]
  }
 ],
 "metadata": {
  "kernelspec": {
   "display_name": "Python 3",
   "language": "python",
   "name": "python3"
  },
  "language_info": {
   "codemirror_mode": {
    "name": "ipython",
    "version": 3
   },
   "file_extension": ".py",
   "mimetype": "text/x-python",
   "name": "python",
   "nbconvert_exporter": "python",
   "pygments_lexer": "ipython3",
   "version": "3.7.3"
  }
 },
 "nbformat": 4,
 "nbformat_minor": 2
}
