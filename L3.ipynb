{
 "cells": [
  {
   "cell_type": "markdown",
   "metadata": {},
   "source": [
    "# Solving Problems with Python: an Introduction to Data Science\n",
    "\n",
    "## Lesson 3: an introduction to data processing/manipulation\n",
    "\n",
    "In this lesson we are going to build off what you've learned in lesson two (so make sure you've done that!) in analyzing and processing data that we will read in from a file. \n",
    "\n",
    "Before we get started, familiarize yourself with accessing the Python documentation. Nearly every question you might have probably has an answer there, with code examples to boot! Make sure you know how to access it -- it will be very useful to you in the event I'm not here to answer your question (or you don't want to wait for me to finish helping someone else). \n",
    "\n",
    "Now let's learn how to use a new module -- I'm going to show you an alternate way of reading in a file with the CSV package. To use this we will need to import it."
   ]
  },
  {
   "cell_type": "code",
   "execution_count": 1,
   "metadata": {},
   "outputs": [],
   "source": [
    "import csv #make sure you run this cell!"
   ]
  },
  {
   "cell_type": "markdown",
   "metadata": {},
   "source": [
    "Below is an example of how we can use this module to read in data, using our Dow data from the last exercise. "
   ]
  },
  {
   "cell_type": "code",
   "execution_count": 6,
   "metadata": {},
   "outputs": [],
   "source": [
    "dowData = []\n",
    "with open('dow.txt') as f: #use the build in open function to open the file and give it the name \"f\"\n",
    "    reader = csv.reader(f) #define a variable called reader that stores the results of the csv.reader() function\n",
    "    for row in reader: #this loop goes through every row and does whatever we want on each iteration\n",
    "        dowData.append(float(row[0])) #add each row (in decimal form) to dowData\n",
    "        #why the [0]? each \"row\" is really a 1 item list -- the [0] takes just the number "
   ]
  },
  {
   "cell_type": "markdown",
   "metadata": {},
   "source": [
    "### Exercise 1: checking this new method\n",
    "\n",
    "Check and see if this way of reading in the data produces the same result as in lesson two. Make a plot (**don't forget to import matplotlib!**) to show this. "
   ]
  },
  {
   "cell_type": "code",
   "execution_count": 8,
   "metadata": {},
   "outputs": [],
   "source": [
    "#your code goes here:\n"
   ]
  },
  {
   "cell_type": "markdown",
   "metadata": {},
   "source": [
    "### Exercise 2: reading in more complicated data\n",
    "\n",
    "Make sure you have the file ```baseball_players.csv``` in your Jupyter notebook directory. Before we do anything fancy with it it's a good idea to simply look at the data to see how it's organized. Here's an example of how we could spit out each \"row\" of data, using the Dow example above:\n",
    "```python\n",
    "with open('dow.txt') as f:\n",
    "    reader = csv.reader(f)\n",
    "    for row in reader:\n",
    "        print(row) #notice everything is the same as before except this line\n",
    "        #instead of saving the data to a list I just want to see it (for now)\n",
    "```\n",
    "**Your turn:** Modify this example to examine the ```baseball_players.csv``` file. What do you notice? Try modifying the print statement to something like ```print(row[0])``` or ```print(row[3])```. What does this return?"
   ]
  },
  {
   "cell_type": "code",
   "execution_count": 11,
   "metadata": {},
   "outputs": [],
   "source": [
    "#your code goes here\n"
   ]
  },
  {
   "cell_type": "markdown",
   "metadata": {},
   "source": [
    "You should notice that the first \"row\" contains header information -- these are like the column names in a spreadsheet. Our data has recorded the names, teams, positions, heights, weights, and ages of 1034 different players across the league.\n",
    "\n",
    "**STOP!** Are the examples with the loops confusing you? If so (and/or you want some extra practice) open the loops notebook for a more detailed explanation before continuing. \n",
    "\n",
    "### Exercise 3: saving our data into useful lists\n",
    "\n",
    "Now that we know what the data looks like we want to start working with it, but to do that we need to think of a smart way to organize it. There are many different ways to do this, but we will start with the simplest -- saving each column as its own list. Here's an example:\n",
    "\n",
    "```python \n",
    "names = [] #initialize an empty list called names\n",
    "with open('baseball_players.csv') as f:\n",
    "    reader = csv.reader(f)\n",
    "    lineCount = 0\n",
    "    for row in reader: \n",
    "        if lineCount == 0: #first line of file, which I want to skip\n",
    "            print(\"skipped the first line because it was just a header\")\n",
    "            lineCount += 1 #add one to lineCount \n",
    "        else:\n",
    "            names.append(row[0]) #the first item in each row (row[0]) is the player's name \n",
    "            lineCount += 1 #add one to lineCount\n",
    "    print(\"all done --\", lineCount, \"lines read (including header)\")\n",
    "```\n",
    "**Your turn:** Modify the above example to get lists for each column in the data (names, teams, positions, heights, weights, and ages). Check that they are all 1034 items long (you can do this using the ```len()``` function, ie ```print(len(names))``` should spit out the number 1034.\n",
    "\n",
    "**Important!** When you read in the numbers (heights, weights, and ages) ***you will need to tell the computer you want this to be a number, not a string***. Recall that we can accomplish this easily by using the built in ```int()``` and ```float()``` functions (to convert to integers or floats respectively). For example, for the age list we would need to modify the append command to something like ```ages.append(float(row[5]))```."
   ]
  },
  {
   "cell_type": "code",
   "execution_count": 34,
   "metadata": {},
   "outputs": [],
   "source": [
    "#your code goes here\n"
   ]
  },
  {
   "cell_type": "markdown",
   "metadata": {},
   "source": [
    "### Exercise 4: analyzing and sorting our data\n",
    "\n",
    "Now that we've organized our data into something more Python friendly we can start processing/manipulating it. Using your lists and Python skills, answer the following questions about this sample of MLB players (ranked in order of increasing difficulty): \n",
    "\n",
    "\n",
    "#### A: What is the average height of all players?\n",
    "\n",
    "**Hint:** Remember the definition of an average is to add every number up and then divide by the total number of items in the list. You can accomplish this easily with the built in ```sum()``` function ie:\n",
    "```python\n",
    "SUM = sum(list) #this returns the sum of all values in the list\n",
    "average = SUM/len(list) #to get the average we divide by the number of items in the list\n",
    "```\n",
    "\n"
   ]
  },
  {
   "cell_type": "code",
   "execution_count": 50,
   "metadata": {},
   "outputs": [],
   "source": [
    "#your solution to part A here\n"
   ]
  },
  {
   "cell_type": "markdown",
   "metadata": {},
   "source": [
    "#### B: Who is the tallest player in the league (according to this data)?\n",
    "\n",
    "**Hint:** Look back to your lesson two notebook, where we figured out how to find the maximum number and its index. \n",
    "\n"
   ]
  },
  {
   "cell_type": "code",
   "execution_count": 40,
   "metadata": {},
   "outputs": [],
   "source": [
    "#your solution to part B here\n"
   ]
  },
  {
   "cell_type": "markdown",
   "metadata": {},
   "source": [
    "#### C: How many different MLB teams are represented in the data?\n",
    "\n",
    "**Hint:** We need to go through the entire teams list and count how many *unique* entries there are. The easiest approach to tackling this problem is to create a new list to keep track of this -- see example below: \n",
    "```python\n",
    "unique = [] #initialize list to keep track of unique entries\n",
    "for item in list:\n",
    "    if item in unique: #this checks if \"item\" is in the list \"unique\"\n",
    "        continue #don't do anything because we've already tracked this one\n",
    "    else:\n",
    "        unique.append(item)\n",
    "```\n"
   ]
  },
  {
   "cell_type": "code",
   "execution_count": 41,
   "metadata": {},
   "outputs": [],
   "source": [
    "#your solution to part C here\n"
   ]
  },
  {
   "cell_type": "markdown",
   "metadata": {},
   "source": [
    "#### D: Which team has the largest average height?\n",
    "\n",
    "**Hint:** This is easiest to solve in two steps. First you need to find the average heights of each team individually (this is the hard part) then you need to figure out which is the largest (this is the easy part). \n",
    "\n",
    "Consider the following example:\n",
    "\n",
    "```python\n",
    "#let's say I want to find the average height of all BAL players...\n",
    "hSum = 0\n",
    "playerCount = 0\n",
    "for i in range(len(heights)): #i will go from 0 to 1034 (the length of the heights list)\n",
    "    if teams[i] == \"BAL\": #check if the team at this spot is BAL\n",
    "        hSum += heigths[i] #if this is a BAL player add his height to our sum\n",
    "        playerCount += 1 #add to playerCount (for use later)\n",
    "hAverage = hSum/playerCount #divide sum by number of players (see definition of average)\n",
    "```"
   ]
  },
  {
   "cell_type": "code",
   "execution_count": 42,
   "metadata": {},
   "outputs": [],
   "source": [
    "#your solution to part D here\n"
   ]
  },
  {
   "cell_type": "markdown",
   "metadata": {},
   "source": [
    "#### E: Which position has the smallest average weight?\n",
    "\n",
    "**Hint:** This is basically the same exercise as part D, but now you need to find the *smallest* value instead of the largest and you are sorting by position instead of team."
   ]
  },
  {
   "cell_type": "code",
   "execution_count": 43,
   "metadata": {},
   "outputs": [],
   "source": [
    "#your solution to part E here\n"
   ]
  },
  {
   "cell_type": "markdown",
   "metadata": {},
   "source": [
    "#### F: What is the average age and standard deviation of all baseball players? \n",
    "\n",
    "**Hint:** read the numpy documentation and search for the keywords \"mean\" (AKA average) and \"standard deviation\" then follow the examples there to solve this! For those unfamiliar the standard deviation is essentially a measure of how tightly packed your data are -- if the standard deviation is small that means most of your data is clustered together, whereas a large standard deviation indicates that your data is much more scattered/has a much wider spread."
   ]
  },
  {
   "cell_type": "code",
   "execution_count": 44,
   "metadata": {},
   "outputs": [],
   "source": [
    "#your solution to part F here\n"
   ]
  },
  {
   "cell_type": "markdown",
   "metadata": {},
   "source": [
    "### Exercise 5: new kinds of plots\n",
    "\n",
    "Now that you are masters of manipulating data, you're going to apply those skills to make some fancy new plots. In this exercise you'll need to make both a bar and a scatter plot, but don't worry -- there's examples of how to do both below!\n",
    "\n",
    "#### Bar example:\n",
    "\n",
    "```python\n",
    "import matplotlib.pyplot as plt\n",
    "categories = ['category 1', 'category 2', 'category 3', ...]\n",
    "barSizes = [number1, number2, number3, ...]\n",
    "plt.bar(categories, barSizes)\n",
    "plt.title(\"This is a bar plot of the sizes of things in different categories\")\n",
    "plt.xlabel(\"categories (units)\")\n",
    "plt.ylabel(\"height of bar (units)\")\n",
    "plt.show()\n",
    "```\n",
    "\n",
    "#### Scatter example:\n",
    "```python\n",
    "import matplotlib.pyplot as plt\n",
    "xValues = [some data...]\n",
    "yValues = [some data...]\n",
    "plt.scatter(xValues, yValues, keyword arguments... (see L2))\n",
    "plt.title(\"this is a scatter plot\")\n",
    "plt.xlabel(\"x (units)\")\n",
    "plt.ylabel(\"y (units)\")\n",
    "plt.show()\n",
    "```\n",
    "\n",
    "#### Part A: generating BMI Lists\n",
    "Body mass index (BMI) is defined as $BMI = \\frac{weight \\ (in \\ kg)}{{height \\ (in \\ meters)}^{2}}$\n",
    "\n",
    "To use this formula we first need to convert our data from pounds and inches to kilograms and meters. For reference, there are **$\\sim$0.454 kilograms per pound** and **$\\sim$0.0254 meters per inch.**\n",
    "\n",
    "Using approaches similar to what you've already done in exercise 4, create a list that has each team name (only once) and a corresponding list with each team's BMI (using the formula above). Then make a bar chart of this data -- which team is the \"fittest\" according to this BMI calculation? Your \"categories\" will be the list of team names and your \"barSizes\" will be the average BMI of each team.\n",
    "\n",
    "**Important:** to get the right answer you need to make sure the two lists you create match each other -- ie if the first team in your team list is \"BAL\" then the first number in your BMI list needs to be the average BMI for \"BAL\"."
   ]
  },
  {
   "cell_type": "code",
   "execution_count": 47,
   "metadata": {},
   "outputs": [],
   "source": [
    "#your solution to part A here\n"
   ]
  },
  {
   "cell_type": "markdown",
   "metadata": {},
   "source": [
    "#### Part B: plotting BMI vs age\n",
    "\n",
    "Now we are going to investigate the BMI of every player to see and compare that with their age to see if there appears to be a correlation.\n",
    "\n",
    "First, create a list that holds the BMI of every player (again the order is important so make sure you keep track of it) -- these will be your \"yValues\" and you can create them easily using the weights and heights lists you already made. \n",
    "\n",
    "Next, make a scatter plot with this new BMI list and your ages list (which are your \"xValues\") and display the result. Refer to the image in L2 to make adjustments to enhance the quality of your plot.\n",
    "\n",
    "Does their appear to be a correlation between age and BMI?\n",
    "\n",
    "**Challenge:** Plot the data as before but find a way to make the colors of each point change according to what team they are on and report this in a legend."
   ]
  },
  {
   "cell_type": "code",
   "execution_count": 48,
   "metadata": {},
   "outputs": [],
   "source": [
    "#your solution to part B here\n"
   ]
  }
 ],
 "metadata": {
  "kernelspec": {
   "display_name": "Python 3",
   "language": "python",
   "name": "python3"
  },
  "language_info": {
   "codemirror_mode": {
    "name": "ipython",
    "version": 3
   },
   "file_extension": ".py",
   "mimetype": "text/x-python",
   "name": "python",
   "nbconvert_exporter": "python",
   "pygments_lexer": "ipython3",
   "version": "3.7.3"
  }
 },
 "nbformat": 4,
 "nbformat_minor": 2
}
